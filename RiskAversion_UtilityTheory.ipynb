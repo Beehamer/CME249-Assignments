{
 "cells": [
  {
   "cell_type": "markdown",
   "metadata": {},
   "source": [
    "### Absolute Risk Premia for CARA\n",
    "Absolute Risk-Premium: $\\pi_A = \\mathbb{E}[x] - X_{CE} =  \\bar{X} - X_{CE}$ <br>\n",
    "Given that\n",
    "- Taylor expansion $U(X) \\approx U(\\bar{X}) + U'(\\bar{X}) (X-\\bar{X}) + \\frac{1}{2} U''(\\bar{X}) (X-\\bar{X})^2$\n",
    "- Taylor expansion to linear terms $U(X_{CE}) \\approx U(\\bar{X}) + U'(\\bar{X}) (X_{CE}-\\bar{X})$\n",
    "- Expectation of Taylor est. $\\mathbb{E}[U(X)] \\approx U(\\bar{X}) + \\frac{1}{2} U''(\\bar{X}) \\sigma_{x}^2$\n",
    "- Defination of CE $\\mathbb{E}[U(X)] = U(X_{CE})$\n",
    "$$U(\\bar{X}) + U'(\\bar{X}) (X_{CE}-\\bar{X}) = U(\\bar{X}) + \\frac{1}{2} U''(\\bar{X}) \\sigma_{x}^2$$\n",
    "i.e.,\n",
    "$$\\pi_A = X_{CE}-\\bar{X} = - \\frac{U''(\\bar{X}) \\sigma_{x}^2}{2 U'(\\bar{X}) } = \\frac{1}{2} A(\\bar{x}) \\sigma_{x}^2$$"
   ]
  },
  {
   "cell_type": "markdown",
   "metadata": {},
   "source": [
    "### Relative Risk Premia for CRRA\n",
    "Absolute Risk-Premium: $\\pi_R = \\frac{\\pi_A}{\\mathbb{E}[x]} =  1- \\frac{X_{CE}}{\\bar{X}}$ <br>\n",
    "Given that\n",
    "$$\\pi_R = \\frac{\\pi_A}{\\bar{x}} = -\\frac{1}{2}\\frac{U''(\\bar{X})\\bar{X}}{U'(\\bar{X})} \\frac{\\sigma_{x}^2}{\\bar{X}^2} = -\\frac{1}{2}\\frac{U''(\\bar{X})\\bar{X}}{U'(\\bar{X})} \\sigma_{\\frac{X}{\\bar{X}}}^2$$\n",
    "i.e.,\n",
    "$$\\pi_R = \\frac{1}{2} R(\\bar{x}) \\sigma_{\\frac{X}{\\bar{X}}}^2$$\n",
    "Where\n",
    "$$R(\\bar{x}) = -\\frac{U''(\\bar{X})\\bar{X}}{U'(\\bar{X})} $$"
   ]
  },
  {
   "cell_type": "markdown",
   "metadata": {},
   "source": [
    "### Solutions to Portfolio Applications\n"
   ]
  },
  {
   "cell_type": "markdown",
   "metadata": {},
   "source": [
    "#### Portfolio Application of CARA\n",
    "###### Problem setup\n",
    "- $\\$$ 1 to invest and hold for 1 year\n",
    "- 1 risky asset whose return $R_r \\sim N(\\mu, \\sigma^2)$\n",
    "- 1 riskless asset whose return $R_l =r$\n",
    "- Unconstrained split ($\\pi$ into risky asset and the rest into riskless)\n",
    "- $U(W) = \\frac{-e^{-aW}}{a}$ for $a \\neq 0$\n",
    "\n",
    "###### Problem solution\n",
    "Given that \n",
    "$$R_r \\sim N(\\mu, \\sigma^2)$$\n",
    "We know $W$ in 1 year period as $W_1 = (1-\\pi) W_0 (1+R_l) + \\pi W_0 (1+R_r)$\n",
    "$$W \\sim N(1+ r + (1-\\pi)(\\mu-r), \\pi^2\\sigma^2)$$\n",
    "To optimize the obj. function:\n",
    "$$\\max{\\mathbb{E}[U(W)]} = \\max{U(W_{CE})}$$\n",
    "i.e.,\n",
    "$$\\max{W_{CE}} = \\max{\\bar{W} + \\pi_A} = \\max{1+ r + (1-\\pi)(\\mu-r) - \\frac{a \\pi^2 \\sigma^2}{2}}$$\n",
    "We need\n",
    "$$\\pi^{\\ast} = \\frac{\\mu-r}{a \\sigma^2}$$"
   ]
  },
  {
   "cell_type": "markdown",
   "metadata": {},
   "source": [
    "#### Portfolio Application of CRRA\n",
    "###### Problem setup\n",
    "- $\\$$ 1 to invest and hold for 1 year\n",
    "- 1 risky asset whose return $R_r \\sim N(\\mu, \\sigma^2)$\n",
    "- 1 riskless asset whose return $R_l =r$\n",
    "- Unconstrained split ($\\pi$ into risky asset and the rest into riskless)\n",
    "- $U(W) = \\frac{W^{1-\\gamma}}{1-\\gamma}$ for $\\gamma \\neq 1$\n",
    "\n",
    "###### Problem solution\n",
    "Given that \n",
    "$$R_r \\sim N(\\mu, \\sigma^2)$$\n",
    "We know $W$ in 1 year period as $W_1 = (1-\\pi) W_0 (1+R_l) + \\pi W_0 (1+R_r)$\n",
    "$$W \\sim N(1+ r + (1-\\pi)(\\mu-r), \\pi^2\\sigma^2)$$\n",
    "To optimize the obj. function:\n",
    "$$\\max{\\mathbb{E}[U(W)]} = \\max{U(W_{CE})}$$\n",
    "i.e.,\n",
    "$$\\max{W_{CE}} = \\max{\\bar{W}(1 + \\pi_R)}$$\n",
    "We need\n",
    "$$\\pi^{\\ast} = \\frac{\\mu-r}{\\gamma \\sigma^2}$$"
   ]
  },
  {
   "cell_type": "code",
   "execution_count": null,
   "metadata": {},
   "outputs": [],
   "source": []
  }
 ],
 "metadata": {
  "kernelspec": {
   "display_name": "Python 3",
   "language": "python",
   "name": "python3"
  },
  "language_info": {
   "codemirror_mode": {
    "name": "ipython",
    "version": 3
   },
   "file_extension": ".py",
   "mimetype": "text/x-python",
   "name": "python",
   "nbconvert_exporter": "python",
   "pygments_lexer": "ipython3",
   "version": "3.6.8"
  },
  "toc": {
   "base_numbering": 1,
   "nav_menu": {},
   "number_sections": false,
   "sideBar": true,
   "skip_h1_title": false,
   "title_cell": "Table of Contents",
   "title_sidebar": "Contents",
   "toc_cell": false,
   "toc_position": {},
   "toc_section_display": true,
   "toc_window_display": true
  }
 },
 "nbformat": 4,
 "nbformat_minor": 2
}
