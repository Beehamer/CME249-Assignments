{
 "cells": [
  {
   "cell_type": "code",
   "execution_count": 2,
   "metadata": {},
   "outputs": [],
   "source": [
    "import numpy as np\n",
    "import pandas as pd\n",
    "import scipy\n",
    "from typing import TypeVar,Mapping, Set, Generic, Sequence\n",
    "from scipy.stats import norm"
   ]
  },
  {
   "cell_type": "markdown",
   "metadata": {},
   "source": [
    "### Black-Scholes formulas for European Call/Put Pricing\n",
    "- Underlying asset price\n",
    "$$S_t = \\mu S_t dt + \\sigma S_t dz_t$$\n",
    "- Value of call option\n",
    "$$dC(S,t)= (\\mu S \\frac{dC}{dS} + \\frac{dC}{dt} + \\frac{1}{2} \\sigma^2 S^2 \\frac{d^2C}{dS^2})dt + \\sigma S \\frac{dC}{dS} dz$$\n",
    "- Replicate call option with cash ($x_t$ units) and underlying asset ($y_t$ units)\n",
    "$$P_t = x_t B_t + y_t S_t$$\n",
    "$$dP_t = (r x_t B_t + y_t \\mu S_t) dt + y_t \\sigma S_t d z_t$$\n",
    "- Match $dC(S,t)$ with $dP_t$\n",
    "$$y_t = \\frac{dC}{dS}$$\n",
    "$$r x_t B_t = \\frac{dC}{dt} + \\frac{1}{2} \\sigma^2 S^2 \\frac{d^2C}{dS^2}$$\n",
    "- Match $C_t$ with $P_t$\n",
    "$$r C_t = \\frac{dC}{dt} + \\frac{1}{2} \\sigma^2 S^2 \\frac{d^2C}{dS^2} + r \\frac{dC}{dS} S_t$$\n",
    "- Solve PDE with $C(S,T) = \\max \\{S-K, 0\\}$ and $C(0,t) = 0$.\n",
    "$$C(S,t) = S_t \\Phi(d_1) - e^{-r(T-t)} K \\Phi(d_2)$$\n",
    "$$d_1 = \\frac{\\log(\\frac{S_t}{K}) + (r +\\sigma^2/2) (T-t)}{\\sqrt{T-t}}$$\n",
    "$$d_2 = d_1 -\\sigma \\sqrt{T-t}$$"
   ]
  },
  {
   "cell_type": "code",
   "execution_count": 3,
   "metadata": {},
   "outputs": [],
   "source": [
    "def european_call(S, K, T, r, sigma, t) -> float:   \n",
    "    # S, spot price\n",
    "    # K, strike price\n",
    "    # T, maturity time\n",
    "    # t, current time\n",
    "    # r: risk free rate\n",
    "    # sigma: sd of underlying asset\n",
    "    \n",
    "    t_gap = T-t\n",
    "    d1 = (np.log(S / K) + (r + 0.5 * sigma ** 2) * t_gap) / (sigma * np.sqrt(t_gap))\n",
    "    d2 = (np.log(S / K) + (r - 0.5 * sigma ** 2) * t_gap) / (sigma * np.sqrt(t_gap))\n",
    "    call = (S * norm.cdf(d1, 0, 1) - K * np.exp(-r * t_gap) * norm.cdf(d2, 0, 1))\n",
    "    return call\n",
    "\n",
    "def european_put(S, K, T, r, sigma, t) -> float:   \n",
    "    # S, spot price\n",
    "    # K, strike price\n",
    "    # T, maturity time\n",
    "    # t, current time\n",
    "    # r: risk free rate\n",
    "    # sigma: sd of underlying asset\n",
    "    \n",
    "    t_gap = T-t\n",
    "    d1 = (np.log(S / K) + (r + 0.5 * sigma ** 2) * T-t) / (sigma * np.sqrt(T-t))\n",
    "    d2 = (np.log(S / K) + (r - 0.5 * sigma ** 2) * T-t) / (sigma * np.sqrt(T-t))\n",
    "    put = (K * np.exp(-r * T-t) * norm.cdf(-d2, 0, 1) - S * norm.cdf(-d1, 0, 1))\n",
    "    \n",
    "    return put"
   ]
  },
  {
   "cell_type": "code",
   "execution_count": null,
   "metadata": {},
   "outputs": [],
   "source": [
    "### Standard binary tree/grid-based numerical algorithm for American Option Pricing "
   ]
  }
 ],
 "metadata": {
  "kernelspec": {
   "display_name": "Python 3",
   "language": "python",
   "name": "python3"
  },
  "language_info": {
   "codemirror_mode": {
    "name": "ipython",
    "version": 3
   },
   "file_extension": ".py",
   "mimetype": "text/x-python",
   "name": "python",
   "nbconvert_exporter": "python",
   "pygments_lexer": "ipython3",
   "version": "3.6.8"
  },
  "toc": {
   "base_numbering": 1,
   "nav_menu": {},
   "number_sections": false,
   "sideBar": true,
   "skip_h1_title": false,
   "title_cell": "Table of Contents",
   "title_sidebar": "Contents",
   "toc_cell": false,
   "toc_position": {},
   "toc_section_display": true,
   "toc_window_display": false
  }
 },
 "nbformat": 4,
 "nbformat_minor": 2
}
