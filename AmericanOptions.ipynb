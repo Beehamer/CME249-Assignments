{
 "cells": [
  {
   "cell_type": "code",
   "execution_count": 2,
   "metadata": {},
   "outputs": [],
   "source": [
    "import numpy as np\n",
    "import pandas as pd\n",
    "import scipy\n",
    "from typing import TypeVar,Mapping, Set, Generic, Sequence\n",
    "from scipy.stats import norm"
   ]
  },
  {
   "cell_type": "markdown",
   "metadata": {},
   "source": [
    "### Black-Scholes formulas for European Call/Put Pricing\n",
    "- Underlying asset price\n",
    "$$S_t = \\mu S_t dt + \\sigma S_t dz_t$$\n",
    "- Value of call option\n",
    "$$dC(S,t)= (\\mu S \\frac{dC}{dS} + \\frac{dC}{dt} + \\frac{1}{2} \\sigma^2 S^2 \\frac{d^2C}{dS^2})dt + \\sigma S \\frac{dC}{dS} dz$$\n",
    "- Replicate call option with cash ($x_t$ units) and underlying asset ($y_t$ units)\n",
    "$$P_t = x_t B_t + y_t S_t$$\n",
    "$$dP_t = (r x_t B_t + y_t \\mu S_t) dt + y_t \\sigma S_t d z_t$$\n",
    "- Match $dC(S,t)$ with $dP_t$\n",
    "$$y_t = \\frac{dC}{dS}$$\n",
    "$$r x_t B_t = \\frac{dC}{dt} + \\frac{1}{2} \\sigma^2 S^2 \\frac{d^2C}{dS^2}$$\n",
    "- Match $C_t$ with $P_t$\n",
    "$$r C_t = \\frac{dC}{dt} + \\frac{1}{2} \\sigma^2 S^2 \\frac{d^2C}{dS^2} + r \\frac{dC}{dS} S_t$$\n",
    "- Solve PDE with $C(S,T) = \\max \\{S-K, 0\\}$ and $C(0,t) = 0$.\n",
    "$$C(S,t) = S_t \\Phi(d_1) - e^{-r(T-t)} K \\Phi(d_2)$$\n",
    "$$d_1 = \\frac{\\log(\\frac{S_t}{K}) + (r +\\sigma^2/2) (T-t)}{\\sqrt{T-t}}$$\n",
    "$$d_2 = d_1 -\\sigma \\sqrt{T-t}$$"
   ]
  },
  {
   "cell_type": "code",
   "execution_count": 4,
   "metadata": {},
   "outputs": [],
   "source": [
    "def european_call(S: float, K: float, T: int, r: float, sigma: float, t: int) -> float:   \n",
    "    # S, spot price\n",
    "    # K, strike price\n",
    "    # T, maturity time\n",
    "    # t, current time\n",
    "    # r: risk free rate\n",
    "    # sigma: sd of underlying asset\n",
    "    \n",
    "    t_gap = T-t\n",
    "    d1 = (np.log(S / K) + (r + 0.5 * sigma ** 2) * t_gap) / (sigma * np.sqrt(t_gap))\n",
    "    d2 = (np.log(S / K) + (r - 0.5 * sigma ** 2) * t_gap) / (sigma * np.sqrt(t_gap))\n",
    "    call = (S * norm.cdf(d1, 0, 1) - K * np.exp(-r * t_gap) * norm.cdf(d2, 0, 1))\n",
    "    return call\n",
    "\n",
    "def european_put(S: float, K: float, T: int, r: float, sigma: float, t: int) -> float:   \n",
    "    # S, spot price\n",
    "    # K, strike price\n",
    "    # T, maturity time\n",
    "    # t, current time\n",
    "    # r: risk free rate\n",
    "    # sigma: sd of underlying asset\n",
    "    \n",
    "    t_gap = T-t\n",
    "    d1 = (np.log(S / K) + (r + 0.5 * sigma ** 2) * T-t) / (sigma * np.sqrt(T-t))\n",
    "    d2 = (np.log(S / K) + (r - 0.5 * sigma ** 2) * T-t) / (sigma * np.sqrt(T-t))\n",
    "    put = (K * np.exp(-r * T-t) * norm.cdf(-d2, 0, 1) - S * norm.cdf(-d1, 0, 1))\n",
    "    \n",
    "    return put"
   ]
  },
  {
   "cell_type": "markdown",
   "metadata": {},
   "source": [
    "### Standard binary tree/grid-based numerical algorithm for American Option Pricing \n",
    "Ref: https://maths.ucd.ie/~vlasenko/MST30030/fm17.pdf"
   ]
  },
  {
   "cell_type": "code",
   "execution_count": 7,
   "metadata": {},
   "outputs": [],
   "source": [
    "def BinaryTree_call(S: float, K: float, T: int, r: float, sigma: float, t: int) -> float:  \n",
    "    # u,d,p: https://en.wikipedia.org/wiki/Binomial_options_pricing_model\n",
    "    u = np.exp(sigma*np.sqrt(t/T))\n",
    "    d = np.exp(-sigma*np.sqrt(t/T))\n",
    "    p = (np.exp(r*t/T)-d) / (u-d) \n",
    "\n",
    "    val = np.zeros((T+1,T+1))\n",
    "    val[0,0] = S\n",
    "    for i in range(1,T+1):\n",
    "        val[i,0] = val[i-1,0]*u\n",
    "        for j in range(1,i+1):\n",
    "            val[i,j] = val[i-1,j-1]*d\n",
    "    option_val = np.zeros_like(val)\n",
    "    for j in range(T+1):\n",
    "        option_val[T,j] = max(0, val[T,j]-K)\n",
    "    for i in range(T-1,-1,-1): # Backward\n",
    "        for j in range(i+1):\n",
    "            option_val[i,j] = max(0, val[i,j]-K, np.exp(-r*(t/T))*(p*option_val[i+1,j]+(1-p)*option_val[i+1,j+1]))\n",
    "    return option_val[0,0]\n",
    "\n",
    "def BinaryTree_put(S: float, K: float, T: int, r: float, sigma: float, t: int) -> float:  \n",
    "    # u,d,p: https://en.wikipedia.org/wiki/Binomial_options_pricing_model\n",
    "    u = np.exp(sigma*np.sqrt(t/T))\n",
    "    d = np.exp(-sigma*np.sqrt(t/T))\n",
    "    p = (np.exp(r*t/T)-d) / (u-d) \n",
    "\n",
    "    val = np.zeros((T+1,T+1))\n",
    "    val[0,0] = S\n",
    "    for i in range(1,T+1):\n",
    "        val[i,0] = val[i-1,0]*u\n",
    "        for j in range(1,i+1):\n",
    "            val[i,j] = val[i-1,j-1]*d\n",
    "    option_val = np.zeros_like(val)\n",
    "    for j in range(T+1):\n",
    "        option_val[T,j] = max(0, K - val[T,j])\n",
    "    for i in range(T-1,-1,-1):\n",
    "        for j in range(i+1):\n",
    "            option_val[i,j] = max(0, K - val[i,j], np.exp(-r*(t/T))*(p*option_val[i+1,j]+(1-p)*option_val[i+1,j+1]))\n",
    "    return option_val[0,0]"
   ]
  },
  {
   "cell_type": "markdown",
   "metadata": {},
   "source": [
    "### Longstaff-Schwartz Algorithm\n",
    "Ref: http://www2.maths.ox.ac.uk/~gilesm/mc/nus/lec6.pdf"
   ]
  },
  {
   "cell_type": "code",
   "execution_count": 8,
   "metadata": {},
   "outputs": [],
   "source": [
    "def ind(x):\n",
    "    return x\n",
    "\n",
    "def LongstaffSchwartz_call(SP: np.ndarray, r: float, phi=ind) -> float:\n",
    "    # SP[0:m, 0:n+1], i: path, j: timestep\n",
    "    # r, discount rate\n",
    "    # function\n",
    "    m,n = SP.shape\n",
    "    CF = [max(SP[i,n]-K,0) for i in range(m)]\n",
    "    for j in range(n-1,-1,0):\n",
    "        CF = CF * np.exp(-r)\n",
    "        X = np.asarray([phi(SP[i,j]) for i in range(m) if max(SP[i,j]-K,0)>0]).reshape(-1,1)\n",
    "        Y = np.asarray([CF(i) for i in range(m) if max(SP[i,j]-K,0)>0]).reshape(-1,1)\n",
    "        w = np.linalg.inv(X.T.dot(X)).dot(X.T).dot(Y)\n",
    "        for i in range(m):\n",
    "            if max(SP[i,j]-K,0) > w*phi(SP[i,j]):\n",
    "                CF[i] = max(SP[i,j]-K,0)\n",
    "    exercise = max(SP[0,0]-K,0)\n",
    "    _continue = np.exp(-r)*np.mean(CF)\n",
    "    return (max(exercise,_continue))"
   ]
  }
 ],
 "metadata": {
  "kernelspec": {
   "display_name": "Python 3",
   "language": "python",
   "name": "python3"
  },
  "language_info": {
   "codemirror_mode": {
    "name": "ipython",
    "version": 3
   },
   "file_extension": ".py",
   "mimetype": "text/x-python",
   "name": "python",
   "nbconvert_exporter": "python",
   "pygments_lexer": "ipython3",
   "version": "3.6.8"
  },
  "toc": {
   "base_numbering": 1,
   "nav_menu": {},
   "number_sections": false,
   "sideBar": true,
   "skip_h1_title": false,
   "title_cell": "Table of Contents",
   "title_sidebar": "Contents",
   "toc_cell": false,
   "toc_position": {},
   "toc_section_display": true,
   "toc_window_display": false
  }
 },
 "nbformat": 4,
 "nbformat_minor": 2
}
