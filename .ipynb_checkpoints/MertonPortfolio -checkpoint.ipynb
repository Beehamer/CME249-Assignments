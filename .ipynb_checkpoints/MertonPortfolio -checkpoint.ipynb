{
 "cells": [
  {
   "cell_type": "markdown",
   "metadata": {},
   "source": [
    "### Merton's Portfolio problem as an MDP\n",
    "##### Problem setup\n",
    "- The State $(t,W_t)$\n",
    "- The Action $[\\pi_t , c_t]$\n",
    "- The Reward per unit time $U(c_t)$\n",
    "- The Return: accumulated discounted Reward\n",
    "- Discount factor: 1\n",
    "- Obj: Find Policy $(t,W_t) \\rightarrow [\\pi_t , c_t]$ that maximizes the Expected Return\n",
    "\n",
    "##### Problem solution"
   ]
  },
  {
   "cell_type": "markdown",
   "metadata": {},
   "source": [
    "### Implement this MDP model in code\n",
    "- Try recovering the closed-form solution with a DP algorithm that you implemented previously"
   ]
  }
 ],
 "metadata": {
  "kernelspec": {
   "display_name": "Python 3",
   "language": "python",
   "name": "python3"
  },
  "language_info": {
   "codemirror_mode": {
    "name": "ipython",
    "version": 3
   },
   "file_extension": ".py",
   "mimetype": "text/x-python",
   "name": "python",
   "nbconvert_exporter": "python",
   "pygments_lexer": "ipython3",
   "version": "3.6.8"
  },
  "toc": {
   "base_numbering": 1,
   "nav_menu": {},
   "number_sections": false,
   "sideBar": true,
   "skip_h1_title": false,
   "title_cell": "Table of Contents",
   "title_sidebar": "Contents",
   "toc_cell": false,
   "toc_position": {},
   "toc_section_display": true,
   "toc_window_display": true
  }
 },
 "nbformat": 4,
 "nbformat_minor": 2
}
