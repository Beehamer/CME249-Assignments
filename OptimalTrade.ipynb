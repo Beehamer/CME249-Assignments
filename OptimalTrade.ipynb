{
 "cells": [
  {
   "cell_type": "markdown",
   "metadata": {},
   "source": [
    "### Linear Impact model \n",
    "##### Problem setup\n",
    "- State $(t,P_t,N_t)$\n",
    "    - $T$ time steps: $t = 1,..,T$\n",
    "    - Bid price at time $t$, $P_t$\n",
    "    - Remaining volume $R_t = N - \\sum_{i=1}^{t-1} N_i$, $R_1 = N$, $R_T = N_T$\n",
    "- Action bid volume at time $t$, $N_t$\n",
    "- Reward $U(N_t*Q_t) = U(N_t*(P_t - g_t(P_t,N_t)))$\n",
    "    - Temporary Price Impact: $g_t(P_t,N_t)$\n",
    "- Permanent Price Dynamics: $P_{t+1} = f_t(P_t,N_t,\\epsilon_t)$\n",
    "- Obj:\n",
    "$$\\mathbb{E}_{\\pi}[\\sum_{t=1}^T \\gamma^t U(N_t*Q_t)]$$\n",
    "\n",
    "##### Linear Price Impact\n",
    "- Permanent Price Dynamics: $P_{t+1} = P_t - \\alpha N_t + \\epsilon_t$\n",
    "- Temporary Price Impact: $Q_t = P_t -\\beta N_t$\n",
    "- \"+\" risk neutral\n",
    "- \"+\" $\\gamma =1$\n",
    "\n",
    "##### Problem solution\n",
    "Value function\n",
    "$$V_{\\pi}(t,P_t,R_t) = \\mathbb{E}_{\\pi} [\\sum_{i = t}N_i (P_i-\\beta N_i)]$$\n",
    "Optimal Bellman Equation\n",
    "$$V_{\\ast}(t,P_t,R_t) = \\max (N_t (P_t - \\beta N_t) + \\mathbb{E}[V_{\\ast}(t+1,P_{t+1},R_{t+1}) | (t,P_t,R_t)])$$\n",
    "Backprop:\n",
    "$$V_{\\ast}(T,P_T,R_T) = R_T (P_T - \\beta R_T)$$\n",
    "$$\n",
    "\\begin{split}\n",
    "V_{\\ast}(T-1,P_{T-1},R_{T-1}) & = \\max_{N_{T-1}} (N_{T-1} (P_{T-1} - \\beta N_{T-1}) + \\mathbb{E}[R_T (P_T - \\beta R_T)])\\\\\n",
    "& = \\max_{N_{T-1}} (N_{T-1} (P_{T-1} - \\beta N_{T-1}) + \\mathbb{E}[(R_{T-1}-N_{T-1}) (P_{T-1} -\\alpha N_{T-1} - \\beta (R_{T-1}-N_{T-1}))])\n",
    "\\end{split}\n",
    "$$\n",
    "Thus\n",
    "$$N^{\\ast}_{T-1} = R_{t-1}/2$$\n",
    "$$N^{\\ast}_{t} = \\frac{R_{t}}{T-t+1}$$"
   ]
  },
  {
   "cell_type": "code",
   "execution_count": null,
   "metadata": {},
   "outputs": [],
   "source": []
  }
 ],
 "metadata": {
  "kernelspec": {
   "display_name": "Python 3",
   "language": "python",
   "name": "python3"
  },
  "language_info": {
   "codemirror_mode": {
    "name": "ipython",
    "version": 3
   },
   "file_extension": ".py",
   "mimetype": "text/x-python",
   "name": "python",
   "nbconvert_exporter": "python",
   "pygments_lexer": "ipython3",
   "version": "3.6.8"
  },
  "toc": {
   "base_numbering": 1,
   "nav_menu": {},
   "number_sections": false,
   "sideBar": true,
   "skip_h1_title": false,
   "title_cell": "Table of Contents",
   "title_sidebar": "Contents",
   "toc_cell": false,
   "toc_position": {},
   "toc_section_display": true,
   "toc_window_display": false
  }
 },
 "nbformat": 4,
 "nbformat_minor": 2
}
